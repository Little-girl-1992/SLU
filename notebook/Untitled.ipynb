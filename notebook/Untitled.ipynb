{
 "cells": [
  {
   "cell_type": "code",
   "execution_count": 38,
   "metadata": {
    "scrolled": false
   },
   "outputs": [
    {
     "name": "stdout",
     "output_type": "stream",
     "text": [
      "<tf.Variable 'Variable_48:0' shape=(3, 3) dtype=float32_ref> <tf.Variable 'Variable_49:0' shape=(3, 3) dtype=float32_ref>\n",
      "[[ True  True  True]\n",
      " [ True  True  True]\n",
      " [ True False  True]]\n",
      "4.0\n"
     ]
    }
   ],
   "source": [
    "import tensorflow as tf\n",
    "import numpy as np\n",
    "a = tf.Variable([[1.0,0.0,0.0],[0.0,1.0,0.0],[0.0,1.0,1.0]])  \n",
    "b = tf.Variable([[0.7,0.2,0.1],[0.1,0.9,0.2],[0.1,0.1,0.9]])\n",
    "print(a,b)\n",
    "init_op = tf.global_variables_initializer()\n",
    "with tf.Session() as sess:  \n",
    "    sess.run(init_op)\n",
    "    print(sess.run(tf.equal(a,tf.round(b))))\n",
    "    print(sess.run(tf.reduce_sum(a)))\n",
    "    "
   ]
  },
  {
   "cell_type": "code",
   "execution_count": null,
   "metadata": {
    "collapsed": true
   },
   "outputs": [],
   "source": []
  }
 ],
 "metadata": {
  "kernelspec": {
   "display_name": "Python 3",
   "language": "python",
   "name": "python3"
  },
  "language_info": {
   "codemirror_mode": {
    "name": "ipython",
    "version": 3
   },
   "file_extension": ".py",
   "mimetype": "text/x-python",
   "name": "python",
   "nbconvert_exporter": "python",
   "pygments_lexer": "ipython3",
   "version": "3.6.3"
  }
 },
 "nbformat": 4,
 "nbformat_minor": 2
}
