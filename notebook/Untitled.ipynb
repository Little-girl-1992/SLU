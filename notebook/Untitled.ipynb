{
 "cells": [
  {
   "cell_type": "code",
   "execution_count": 16,
   "metadata": {
    "scrolled": false
   },
   "outputs": [
    {
     "name": "stdout",
     "output_type": "stream",
     "text": [
      "__________________________________________________________________________________________________\n",
      "Layer (type)                    Output Shape         Param #     Connected to                     \n",
      "==================================================================================================\n",
      "input_46 (InputLayer)           (None, 2)            0                                            \n",
      "__________________________________________________________________________________________________\n",
      "input_47 (InputLayer)           (None, 2)            0                                            \n",
      "__________________________________________________________________________________________________\n",
      "dense_55 (Dense)                (None, 4)            12          input_46[0][0]                   \n",
      "__________________________________________________________________________________________________\n",
      "dense_56 (Dense)                (None, 4)            12          input_47[0][0]                   \n",
      "__________________________________________________________________________________________________\n",
      "concatenate_9 (Concatenate)     (None, 8)            0           dense_55[0][0]                   \n",
      "                                                                 dense_56[0][0]                   \n",
      "__________________________________________________________________________________________________\n",
      "dense_58 (Dense)                (None, 4)            36          concatenate_9[0][0]              \n",
      "==================================================================================================\n",
      "Total params: 60\n",
      "Trainable params: 60\n",
      "Non-trainable params: 0\n",
      "__________________________________________________________________________________________________\n"
     ]
    }
   ],
   "source": [
    "import keras\n",
    "import numpy as np\n",
    "from keras import backend as K\n",
    "\n",
    "input1 = keras.layers.Input(shape=(2,))\n",
    "x1 = keras.layers.Dense(4, activation='relu')(input1)\n",
    "input2 = keras.layers.Input(shape=(2,))\n",
    "x2 = keras.layers.Dense(4, activation='relu')(input2)\n",
    "\n",
    "input3 = keras.layers.Input(shape=(2,))\n",
    "x3 = keras.layers.Dense(4, activation='relu')(input3)\n",
    "\n",
    "# Equivalent to subtracted = keras.layers.subtract([x1, x2])\n",
    "\n",
    "concatenated = keras.layers.Concatenate(axis=1)([x1,x2])\n",
    "\n",
    "out = keras.layers.Dense(4)(concatenated)\n",
    "model = keras.models.Model(inputs=[input1, input2, input3], outputs=out)\n",
    "model.summary()\n"
   ]
  },
  {
   "cell_type": "code",
   "execution_count": null,
   "metadata": {
    "collapsed": true
   },
   "outputs": [],
   "source": []
  }
 ],
 "metadata": {
  "kernelspec": {
   "display_name": "Python 3",
   "language": "python",
   "name": "python3"
  },
  "language_info": {
   "codemirror_mode": {
    "name": "ipython",
    "version": 3
   },
   "file_extension": ".py",
   "mimetype": "text/x-python",
   "name": "python",
   "nbconvert_exporter": "python",
   "pygments_lexer": "ipython3",
   "version": "3.6.3"
  }
 },
 "nbformat": 4,
 "nbformat_minor": 2
}
