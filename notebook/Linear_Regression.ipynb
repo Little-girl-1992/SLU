{
 "cells": [
  {
   "cell_type": "code",
   "execution_count": 1,
   "metadata": {
    "collapsed": true
   },
   "outputs": [],
   "source": [
    "import torch\n",
    "from torch import nn, optim\n",
    "from torch.autograd import Variable\n",
    "import numpy as np\n",
    "import matplotlib.pyplot as plt"
   ]
  },
  {
   "cell_type": "code",
   "execution_count": 2,
   "metadata": {
    "collapsed": true
   },
   "outputs": [],
   "source": [
    "x_train = np.array([[3.3], [4.4], [5.5], [6.71], [6.93], [4.168],\n",
    "                    [9.779], [6.182], [7.59], [2.167], [7.042],\n",
    "                    [10.791], [5.313], [7.997], [3.1]], dtype=np.float32)\n",
    "\n",
    "y_train = np.array([[1.7], [2.76], [2.09], [3.19], [1.694], [1.573],\n",
    "                    [3.366], [2.596], [2.53], [1.221], [2.827],\n",
    "                    [3.465], [1.65], [2.904], [1.3]], dtype=np.float32)"
   ]
  },
  {
   "cell_type": "code",
   "execution_count": 3,
   "metadata": {
    "collapsed": true
   },
   "outputs": [],
   "source": [
    "x_train = torch.from_numpy(x_train)\n",
    "\n",
    "y_train = torch.from_numpy(y_train)"
   ]
  },
  {
   "cell_type": "code",
   "execution_count": 4,
   "metadata": {},
   "outputs": [
    {
     "name": "stdout",
     "output_type": "stream",
     "text": [
      "torch.Size([15, 1])\n"
     ]
    }
   ],
   "source": [
    "print(x_train.size())"
   ]
  },
  {
   "cell_type": "code",
   "execution_count": 5,
   "metadata": {
    "collapsed": true
   },
   "outputs": [],
   "source": [
    "# Linear Regression Model\n",
    "class LinearRegression(nn.Module):\n",
    "    def __init__(self):\n",
    "        super(LinearRegression, self).__init__()\n",
    "        self.linear = nn.Linear(1, 1)  # input and output is 1 dimension\n",
    "        # nn.Linear(输入维度, 输出维度)是y = w*x+b\n",
    "    def forward(self, x):\n",
    "        out = self.linear(x)\n",
    "        return out"
   ]
  },
  {
   "cell_type": "code",
   "execution_count": 6,
   "metadata": {
    "collapsed": true
   },
   "outputs": [],
   "source": [
    "model = LinearRegression()\n",
    "# 定义loss和优化函数\n",
    "criterion = nn.MSELoss()\n",
    "optimizer = optim.SGD(model.parameters(), lr=1e-4)"
   ]
  },
  {
   "cell_type": "code",
   "execution_count": 9,
   "metadata": {},
   "outputs": [
    {
     "name": "stdout",
     "output_type": "stream",
     "text": [
      "Epoch[20/1000], loss: 0.342011\n",
      "Epoch[40/1000], loss: 0.341834\n",
      "Epoch[60/1000], loss: 0.341656\n",
      "Epoch[80/1000], loss: 0.341479\n",
      "Epoch[100/1000], loss: 0.341301\n",
      "Epoch[120/1000], loss: 0.341125\n",
      "Epoch[140/1000], loss: 0.340948\n",
      "Epoch[160/1000], loss: 0.340771\n",
      "Epoch[180/1000], loss: 0.340595\n",
      "Epoch[200/1000], loss: 0.340418\n",
      "Epoch[220/1000], loss: 0.340242\n",
      "Epoch[240/1000], loss: 0.340066\n",
      "Epoch[260/1000], loss: 0.339891\n",
      "Epoch[280/1000], loss: 0.339715\n",
      "Epoch[300/1000], loss: 0.339540\n",
      "Epoch[320/1000], loss: 0.339364\n",
      "Epoch[340/1000], loss: 0.339189\n",
      "Epoch[360/1000], loss: 0.339015\n",
      "Epoch[380/1000], loss: 0.338840\n",
      "Epoch[400/1000], loss: 0.338665\n",
      "Epoch[420/1000], loss: 0.338491\n",
      "Epoch[440/1000], loss: 0.338317\n",
      "Epoch[460/1000], loss: 0.338143\n",
      "Epoch[480/1000], loss: 0.337969\n",
      "Epoch[500/1000], loss: 0.337796\n",
      "Epoch[520/1000], loss: 0.337622\n",
      "Epoch[540/1000], loss: 0.337449\n",
      "Epoch[560/1000], loss: 0.337276\n",
      "Epoch[580/1000], loss: 0.337103\n",
      "Epoch[600/1000], loss: 0.336931\n",
      "Epoch[620/1000], loss: 0.336758\n",
      "Epoch[640/1000], loss: 0.336586\n",
      "Epoch[660/1000], loss: 0.336414\n",
      "Epoch[680/1000], loss: 0.336242\n",
      "Epoch[700/1000], loss: 0.336070\n",
      "Epoch[720/1000], loss: 0.335898\n",
      "Epoch[740/1000], loss: 0.335727\n",
      "Epoch[760/1000], loss: 0.335555\n",
      "Epoch[780/1000], loss: 0.335384\n",
      "Epoch[800/1000], loss: 0.335213\n",
      "Epoch[820/1000], loss: 0.335043\n",
      "Epoch[840/1000], loss: 0.334872\n",
      "Epoch[860/1000], loss: 0.334702\n",
      "Epoch[880/1000], loss: 0.334531\n",
      "Epoch[900/1000], loss: 0.334361\n",
      "Epoch[920/1000], loss: 0.334192\n",
      "Epoch[940/1000], loss: 0.334022\n",
      "Epoch[960/1000], loss: 0.333852\n",
      "Epoch[980/1000], loss: 0.333683\n",
      "Epoch[1000/1000], loss: 0.333514\n"
     ]
    }
   ],
   "source": [
    "# 开始训练\n",
    "num_epochs = 1000\n",
    "for epoch in range(num_epochs):\n",
    "    inputs = Variable(x_train)\n",
    "    target = Variable(y_train)\n",
    "\n",
    "    # forward\n",
    "    out = model(inputs)\n",
    "    loss = criterion(out, target)\n",
    "    # backward\n",
    "    optimizer.zero_grad() # 在每次反向传播的时候需要将参数的梯度归零\n",
    "    loss.backward()\n",
    "    optimizer.step()\n",
    "\n",
    "    if (epoch+1) % 20 == 0:\n",
    "        print('Epoch[{}/{}], loss: {:.6f}'\n",
    "              .format(epoch+1, num_epochs, loss.data[0]))"
   ]
  },
  {
   "cell_type": "code",
   "execution_count": 10,
   "metadata": {},
   "outputs": [
    {
     "data": {
      "image/png": "[encoded data removed]",
      "text/plain": [
       "<matplotlib.figure.Figure at 0x2e76e7ac860>"
      ]
     },
     "metadata": {},
     "output_type": "display_data"
    }
   ],
   "source": [
    "model.eval()\n",
    "predict = model(Variable(x_train))\n",
    "predict = predict.data.numpy()\n",
    "plt.plot(x_train.numpy(), y_train.numpy(), 'ro', label='Original data')\n",
    "plt.plot(x_train.numpy(), predict, label='Fitting Line')\n",
    "# 显示图例\n",
    "plt.legend() \n",
    "plt.show()"
   ]
  },
  {
   "cell_type": "code",
   "execution_count": 11,
   "metadata": {
    "collapsed": true
   },
   "outputs": [],
   "source": [
    "# 保存模型\n",
    "torch.save(model.state_dict(), './linear.pth')"
   ]
  },
  {
   "cell_type": "code",
   "execution_count": null,
   "metadata": {
    "collapsed": true
   },
   "outputs": [],
   "source": []
  }
 ],
 "metadata": {
  "kernelspec": {
   "display_name": "Python 3",
   "language": "python",
   "name": "python3"
  },
  "language_info": {
   "codemirror_mode": {
    "name": "ipython",
    "version": 3
   },
   "file_extension": ".py",
   "mimetype": "text/x-python",
   "name": "python",
   "nbconvert_exporter": "python",
   "pygments_lexer": "ipython3",
   "version": "3.6.3"
  }
 },
 "nbformat": 4,
 "nbformat_minor": 2
}
