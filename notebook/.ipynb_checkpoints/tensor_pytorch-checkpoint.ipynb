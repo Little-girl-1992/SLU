{
 "cells": [
  {
   "cell_type": "code",
   "execution_count": 2,
   "metadata": {},
   "outputs": [],
   "source": [
    "import torch"
   ]
  },
  {
   "cell_type": "code",
   "execution_count": 3,
   "metadata": {},
   "outputs": [
    {
     "name": "stdout",
     "output_type": "stream",
     "text": [
      "\n",
      " 0.0000e+00  0.0000e+00  1.1210e-42\n",
      " 0.0000e+00  7.0065e-45  0.0000e+00\n",
      " 9.3366e+33  6.9785e-43  0.0000e+00\n",
      " 0.0000e+00  9.1843e-41  0.0000e+00\n",
      " 1.4426e+34  6.9785e-43  0.0000e+00\n",
      "[torch.FloatTensor of size 5x3]\n",
      "\n"
     ]
    }
   ],
   "source": [
    "x = torch.Tensor(5, 3)\n",
    "print(x)"
   ]
  },
  {
   "cell_type": "code",
   "execution_count": 4,
   "metadata": {},
   "outputs": [
    {
     "name": "stdout",
     "output_type": "stream",
     "text": [
      "\n",
      " 0.7303  0.1662  0.5398\n",
      " 0.0584  0.9680  0.0846\n",
      " 0.2394  0.9753  0.7973\n",
      " 0.3930  0.9905  0.6290\n",
      " 0.2086  0.8250  0.0202\n",
      "[torch.FloatTensor of size 5x3]\n",
      "\n"
     ]
    }
   ],
   "source": [
    "x = torch.rand(5,3)\n",
    "print(x)"
   ]
  },
  {
   "cell_type": "code",
   "execution_count": 5,
   "metadata": {},
   "outputs": [
    {
     "name": "stdout",
     "output_type": "stream",
     "text": [
      "torch.Size([5, 3])\n"
     ]
    }
   ],
   "source": [
    "print(x.size())"
   ]
  },
  {
   "cell_type": "code",
   "execution_count": 6,
   "metadata": {},
   "outputs": [
    {
     "name": "stdout",
     "output_type": "stream",
     "text": [
      "\n",
      " 0.7976  1.0859  0.8225\n",
      " 0.0687  1.9388  0.2204\n",
      " 1.1685  1.1707  1.4613\n",
      " 0.6415  1.2424  1.3335\n",
      " 0.3069  1.2379  0.8576\n",
      "[torch.FloatTensor of size 5x3]\n",
      "\n",
      "\n",
      " 0.7976  1.0859  0.8225\n",
      " 0.0687  1.9388  0.2204\n",
      " 1.1685  1.1707  1.4613\n",
      " 0.6415  1.2424  1.3335\n",
      " 0.3069  1.2379  0.8576\n",
      "[torch.FloatTensor of size 5x3]\n",
      "\n"
     ]
    }
   ],
   "source": [
    "y = torch.rand(5, 3)\n",
    "print(x + y)\n",
    "print(torch.add(x,y))"
   ]
  },
  {
   "cell_type": "code",
   "execution_count": 7,
   "metadata": {},
   "outputs": [
    {
     "name": "stdout",
     "output_type": "stream",
     "text": [
      "\n",
      " 0.7976  1.0859  0.8225\n",
      " 0.0687  1.9388  0.2204\n",
      " 1.1685  1.1707  1.4613\n",
      " 0.6415  1.2424  1.3335\n",
      " 0.3069  1.2379  0.8576\n",
      "[torch.FloatTensor of size 5x3]\n",
      "\n"
     ]
    }
   ],
   "source": [
    "result = torch.Tensor(5, 3)\n",
    "torch.add(x, y, out=result)\n",
    "print(result)\n",
    "# result = x+y  三个变量"
   ]
  },
  {
   "cell_type": "code",
   "execution_count": 9,
   "metadata": {},
   "outputs": [
    {
     "name": "stdout",
     "output_type": "stream",
     "text": [
      "\n",
      " 0.7976  1.0859  0.8225\n",
      " 0.0687  1.9388  0.2204\n",
      " 1.1685  1.1707  1.4613\n",
      " 0.6415  1.2424  1.3335\n",
      " 0.3069  1.2379  0.8576\n",
      "[torch.FloatTensor of size 5x3]\n",
      "\n"
     ]
    }
   ],
   "source": [
    "y.add_(x)\n",
    "print(y)\n",
    "# y = y + x 两个变量"
   ]
  },
  {
   "cell_type": "code",
   "execution_count": 10,
   "metadata": {},
   "outputs": [
    {
     "name": "stdout",
     "output_type": "stream",
     "text": [
      "\n",
      " 0.7976  1.0859  0.8225\n",
      " 0.0687  1.9388  0.2204\n",
      " 1.1685  1.1707  1.4613\n",
      " 0.6415  1.2424  1.3335\n",
      " 0.3069  1.2379  0.8576\n",
      "[torch.FloatTensor of size 5x3]\n",
      "\n"
     ]
    }
   ],
   "source": [
    "x.copy_(y)\n",
    "print(x)\n",
    "# 复制  x = y"
   ]
  },
  {
   "cell_type": "code",
   "execution_count": 11,
   "metadata": {},
   "outputs": [
    {
     "name": "stdout",
     "output_type": "stream",
     "text": [
      "\n",
      " 0.7976  0.0687  1.1685  0.6415  0.3069\n",
      " 1.0859  1.9388  1.1707  1.2424  1.2379\n",
      " 0.8225  0.2204  1.4613  1.3335  0.8576\n",
      "[torch.FloatTensor of size 3x5]\n",
      "\n"
     ]
    }
   ],
   "source": [
    "x.t_()\n",
    "print(x)\n",
    "# 转置 x = xT"
   ]
  },
  {
   "cell_type": "code",
   "execution_count": 12,
   "metadata": {},
   "outputs": [
    {
     "name": "stdout",
     "output_type": "stream",
     "text": [
      "\n",
      " 0.0687\n",
      " 1.9388\n",
      " 0.2204\n",
      "[torch.FloatTensor of size 3]\n",
      "\n"
     ]
    }
   ],
   "source": [
    "print(x[:, 1])\n",
    "# 求取一列"
   ]
  },
  {
   "cell_type": "code",
   "execution_count": 13,
   "metadata": {},
   "outputs": [
    {
     "name": "stdout",
     "output_type": "stream",
     "text": [
      "\n",
      " 0.3069\n",
      " 1.2379\n",
      " 0.8576\n",
      "[torch.FloatTensor of size 3]\n",
      "\n"
     ]
    }
   ],
   "source": [
    "print(x[:, -1])"
   ]
  },
  {
   "cell_type": "code",
   "execution_count": 15,
   "metadata": {},
   "outputs": [
    {
     "name": "stdout",
     "output_type": "stream",
     "text": [
      "\n",
      " 1\n",
      " 1\n",
      " 1\n",
      " 1\n",
      " 1\n",
      "[torch.FloatTensor of size 5]\n",
      "\n",
      "[ 1.  1.  1.  1.  1.]\n",
      "\n",
      " 2\n",
      " 2\n",
      " 2\n",
      " 2\n",
      " 2\n",
      "[torch.FloatTensor of size 5]\n",
      "\n",
      "[ 2.  2.  2.  2.  2.]\n"
     ]
    }
   ],
   "source": [
    "a = torch.ones(5)\n",
    "print(a)\n",
    "b = a.numpy()\n",
    "print(b)\n",
    "# 由于没有重新申请变量，所以a和b指向同一个地址\n",
    "a.add_(1)\n",
    "print(a)\n",
    "print(b)"
   ]
  },
  {
   "cell_type": "code",
   "execution_count": 17,
   "metadata": {},
   "outputs": [
    {
     "name": "stdout",
     "output_type": "stream",
     "text": [
      "[ 2.  2.  2.  2.  2.]\n",
      "\n",
      " 2\n",
      " 2\n",
      " 2\n",
      " 2\n",
      " 2\n",
      "[torch.DoubleTensor of size 5]\n",
      "\n"
     ]
    }
   ],
   "source": [
    "import numpy as np\n",
    "a = np.ones(5)\n",
    "# b = torch.from_numpy(a)\n",
    "np.add(a, 1, out=a)\n",
    "b = torch.from_numpy(a)\n",
    "print(a)\n",
    "print(b)"
   ]
  },
  {
   "cell_type": "code",
   "execution_count": 26,
   "metadata": {},
   "outputs": [
    {
     "name": "stdout",
     "output_type": "stream",
     "text": [
      "\n",
      "  7.1784   5.7040   8.7864\n",
      "  2.9096  10.9218   5.4455\n",
      " 13.5979  10.5366  12.2761\n",
      "  8.1595   9.5020   7.5491\n",
      "  7.3795  11.5236   7.7187\n",
      "[torch.cuda.FloatTensor of size 5x3 (GPU 0)]\n",
      "\n"
     ]
    }
   ],
   "source": [
    "if torch.cuda.is_available():\n",
    "    x = x.cuda()\n",
    "    y = y.cuda()\n",
    "    y.add_(x)\n",
    "    print(y)"
   ]
  },
  {
   "cell_type": "code",
   "execution_count": 27,
   "metadata": {},
   "outputs": [
    {
     "name": "stdout",
     "output_type": "stream",
     "text": [
      "\n",
      "(0 ,.,.) = \n",
      "  0.4053  0.9471\n",
      "  0.4516  0.6717\n",
      "  0.8963  0.5289\n",
      "\n",
      "(1 ,.,.) = \n",
      "  0.2467  0.0896\n",
      "  0.7487  0.3176\n",
      "  0.2256  0.7087\n",
      "\n",
      "(2 ,.,.) = \n",
      "  0.4134  0.5111\n",
      "  0.3710  0.3061\n",
      "  0.3559  0.2381\n",
      "\n",
      "(3 ,.,.) = \n",
      "  0.1136  0.3915\n",
      "  0.1123  0.6377\n",
      "  0.6423  0.9367\n",
      "\n",
      "(4 ,.,.) = \n",
      "  0.9703  0.9620\n",
      "  0.9678  0.6158\n",
      "  0.9870  0.7205\n",
      "[torch.FloatTensor of size 5x3x2]\n",
      "\n"
     ]
    }
   ],
   "source": [
    "z = torch.rand(5,3,2)\n",
    "print(z)"
   ]
  },
  {
   "cell_type": "code",
   "execution_count": null,
   "metadata": {
    "collapsed": true
   },
   "outputs": [],
   "source": []
  }
 ],
 "metadata": {
  "kernelspec": {
   "display_name": "Python 3",
   "language": "python",
   "name": "python3"
  },
  "language_info": {
   "codemirror_mode": {
    "name": "ipython",
    "version": 3
   },
   "file_extension": ".py",
   "mimetype": "text/x-python",
   "name": "python",
   "nbconvert_exporter": "python",
   "pygments_lexer": "ipython3",
   "version": "3.6.3"
  }
 },
 "nbformat": 4,
 "nbformat_minor": 2
}
